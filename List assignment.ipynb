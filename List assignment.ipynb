{
 "cells": [
  {
   "cell_type": "markdown",
   "id": "854cf29f-0ff0-4406-ae9b-e7927189b1af",
   "metadata": {},
   "source": [
    "Python - List assignment"
   ]
  },
  {
   "cell_type": "markdown",
   "id": "cc9781e4-8c2d-4cfb-b4bb-affa6def4140",
   "metadata": {},
   "source": [
    "Question 1- Create an empty list"
   ]
  },
  {
   "cell_type": "code",
   "execution_count": 1,
   "id": "e2254ba2-2a06-4e1c-bbd9-c9fb98e2b697",
   "metadata": {},
   "outputs": [],
   "source": [
    "l=[]"
   ]
  },
  {
   "cell_type": "code",
   "execution_count": 2,
   "id": "50bc7e47-c3f1-4727-80b8-41c19589a47f",
   "metadata": {},
   "outputs": [
    {
     "data": {
      "text/plain": [
       "list"
      ]
     },
     "execution_count": 2,
     "metadata": {},
     "output_type": "execute_result"
    }
   ],
   "source": [
    "type(l)"
   ]
  },
  {
   "cell_type": "markdown",
   "id": "52dc00d2-da5a-42fe-846b-0b5b232e14ef",
   "metadata": {},
   "source": [
    "Question 2- Create a list and add an element to the end of the list"
   ]
  },
  {
   "cell_type": "markdown",
   "id": "75ddc675-93b5-42de-ade4-4c24613bf8a7",
   "metadata": {},
   "source": [
    "Answer 2- Know we add a element in the end "
   ]
  },
  {
   "cell_type": "code",
   "execution_count": 9,
   "id": "bcb2f7d7-e603-4f2d-8cc1-b6707f11cdcb",
   "metadata": {},
   "outputs": [],
   "source": [
    "m= [1, 2, 3, 4, 5]"
   ]
  },
  {
   "cell_type": "code",
   "execution_count": 10,
   "id": "da22fd4b-c47a-43de-83a0-0826b447dbc2",
   "metadata": {},
   "outputs": [
    {
     "data": {
      "text/plain": [
       "list"
      ]
     },
     "execution_count": 10,
     "metadata": {},
     "output_type": "execute_result"
    }
   ],
   "source": [
    "type(m)"
   ]
  },
  {
   "cell_type": "code",
   "execution_count": 11,
   "id": "fdf570c3-6958-43b5-acb4-4cd61957dc7e",
   "metadata": {},
   "outputs": [],
   "source": [
    "m.append(6)"
   ]
  },
  {
   "cell_type": "code",
   "execution_count": 12,
   "id": "ce460063-ebd9-4735-8eff-d8d4fff0c49b",
   "metadata": {},
   "outputs": [
    {
     "name": "stdout",
     "output_type": "stream",
     "text": [
      "[1, 2, 3, 4, 5, 6]\n"
     ]
    }
   ],
   "source": [
    "print(m)"
   ]
  },
  {
   "cell_type": "markdown",
   "id": "576bcc39-0fd1-4772-9326-88905730b6bf",
   "metadata": {},
   "source": [
    "The 'append()' is used to add an element to end of the list"
   ]
  },
  {
   "cell_type": "markdown",
   "id": "0f9044fe-0b94-4e44-9bc3-b9ad596e5881",
   "metadata": {},
   "source": [
    "Question 3- For the above create list print the last element"
   ]
  },
  {
   "cell_type": "markdown",
   "id": "11f9fdd9-edd3-4c2b-94d0-4d6384be36c0",
   "metadata": {},
   "source": [
    "Answer 3- Know we print last element in a list "
   ]
  },
  {
   "cell_type": "code",
   "execution_count": 13,
   "id": "e9fb6f05-613c-4581-9a85-c9feb20a478f",
   "metadata": {},
   "outputs": [
    {
     "data": {
      "text/plain": [
       "[1, 2, 3, 4, 5, 6]"
      ]
     },
     "execution_count": 13,
     "metadata": {},
     "output_type": "execute_result"
    }
   ],
   "source": [
    "m"
   ]
  },
  {
   "cell_type": "code",
   "execution_count": 14,
   "id": "2c5f42ff-1f63-4483-8032-01bd9b4cd0f3",
   "metadata": {},
   "outputs": [
    {
     "data": {
      "text/plain": [
       "6"
      ]
     },
     "execution_count": 14,
     "metadata": {},
     "output_type": "execute_result"
    }
   ],
   "source": [
    "m[-1]"
   ]
  },
  {
   "cell_type": "markdown",
   "id": "e97e522c-b752-43b9-bfef-701303ba1bc1",
   "metadata": {},
   "source": [
    "To print the last element of a list we can use the index '-1' which represent the last element in the list"
   ]
  },
  {
   "cell_type": "markdown",
   "id": "18651246-dd5b-43a0-9088-a4e086128854",
   "metadata": {},
   "source": [
    "Question 4- Reverse the above created a list"
   ]
  },
  {
   "cell_type": "markdown",
   "id": "d5f054e2-0bb1-4cf4-81d9-76b8f9bcb757",
   "metadata": {},
   "source": [
    "Answer 4- There are two method to do reverse"
   ]
  },
  {
   "cell_type": "code",
   "execution_count": 15,
   "id": "d3239e64-781b-41a6-a12b-6b15ebaccec9",
   "metadata": {},
   "outputs": [
    {
     "data": {
      "text/plain": [
       "[1, 2, 3, 4, 5, 6]"
      ]
     },
     "execution_count": 15,
     "metadata": {},
     "output_type": "execute_result"
    }
   ],
   "source": [
    "m"
   ]
  },
  {
   "cell_type": "code",
   "execution_count": 16,
   "id": "b95f2f27-69b6-4343-85f4-2a977b8b7b20",
   "metadata": {},
   "outputs": [
    {
     "data": {
      "text/plain": [
       "[6, 5, 4, 3, 2, 1]"
      ]
     },
     "execution_count": 16,
     "metadata": {},
     "output_type": "execute_result"
    }
   ],
   "source": [
    "m[::-1]"
   ]
  },
  {
   "cell_type": "markdown",
   "id": "1e767d81-20e3-4052-b3f7-13f73fed2039",
   "metadata": {},
   "source": [
    "And"
   ]
  },
  {
   "cell_type": "code",
   "execution_count": 17,
   "id": "7f897300-4460-4f06-a396-cac6b1d71a02",
   "metadata": {},
   "outputs": [],
   "source": [
    "m.reverse()"
   ]
  },
  {
   "cell_type": "code",
   "execution_count": 18,
   "id": "e59bfa7c-45ab-4ca8-afbe-6487036f74c5",
   "metadata": {},
   "outputs": [
    {
     "name": "stdout",
     "output_type": "stream",
     "text": [
      "[6, 5, 4, 3, 2, 1]\n"
     ]
    }
   ],
   "source": [
    "print(m)"
   ]
  },
  {
   "cell_type": "markdown",
   "id": "48921cf4-59e0-432b-9db3-5136ca46b247",
   "metadata": {},
   "source": [
    "Tere are the example we used 'reverse' and \"[::-1]\" to severse the order of the element in the list"
   ]
  },
  {
   "cell_type": "raw",
   "id": "19cc2154-fa4f-4143-ba82-2f86129db049",
   "metadata": {},
   "source": [
    "Question 5- Short the above create a list"
   ]
  },
  {
   "cell_type": "markdown",
   "id": "ca9258f9-2755-4e90-973c-136b8925870b",
   "metadata": {},
   "source": [
    "Answer 5- We used the 'short()' method to sort the element in the list in accending order "
   ]
  },
  {
   "cell_type": "code",
   "execution_count": 19,
   "id": "3f141126-bc4d-459d-b5e5-8e34c612cacf",
   "metadata": {},
   "outputs": [],
   "source": [
    "k= [5, 2, 1, 6, 4, 3]"
   ]
  },
  {
   "cell_type": "code",
   "execution_count": 21,
   "id": "128fd219-df02-4423-9898-986ad189219e",
   "metadata": {},
   "outputs": [],
   "source": [
    "k.sort()"
   ]
  },
  {
   "cell_type": "code",
   "execution_count": 22,
   "id": "6c5f210d-eadf-4225-845f-4d3c2ebf4ef3",
   "metadata": {},
   "outputs": [
    {
     "name": "stdout",
     "output_type": "stream",
     "text": [
      "[1, 2, 3, 4, 5, 6]\n"
     ]
    }
   ],
   "source": [
    "print(k)"
   ]
  },
  {
   "cell_type": "markdown",
   "id": "101d34ca-873e-4d08-bee9-2b0483626255",
   "metadata": {},
   "source": [
    "Question 6- create a list of you top three favorite movies the print the second movie title"
   ]
  },
  {
   "cell_type": "markdown",
   "id": "cb332f57-d7b0-4d0d-9354-5a4236e808be",
   "metadata": {},
   "source": [
    "Answer 6- In this qiestion we create a list of favorite movies using square brackets '[]' and separated each element by a comma. we then accessed the second movie title usind index '1' with square brackets'[]' and print it using the print funcation "
   ]
  },
  {
   "cell_type": "code",
   "execution_count": 23,
   "id": "b16b28a9-df9c-4e79-89c6-479e3915ca8a",
   "metadata": {},
   "outputs": [],
   "source": [
    "fm= ['pathan' , 'the dark knight' , 'dangal']"
   ]
  },
  {
   "cell_type": "code",
   "execution_count": 24,
   "id": "ca9d7288-3675-4ad6-a8a4-5dded90adad1",
   "metadata": {},
   "outputs": [
    {
     "name": "stdout",
     "output_type": "stream",
     "text": [
      "the dark knight\n"
     ]
    }
   ],
   "source": [
    "print(fm[1])"
   ]
  },
  {
   "cell_type": "markdown",
   "id": "b64366a0-320c-4a0d-9d27-51a11f6dee9d",
   "metadata": {},
   "source": [
    "Question 7- Create a list of your favorite animals then add a new to the list and print the update list"
   ]
  },
  {
   "cell_type": "markdown",
   "id": "6cbaa77f-8e8c-414f-ab6d-7a240c37cf94",
   "metadata": {},
   "source": [
    "Answer 7- Fist we create a list of our favorite animals using squre brackets '[]' and we then added a new  animal to the end of the lisy"
   ]
  },
  {
   "cell_type": "code",
   "execution_count": 25,
   "id": "1aefca31-d86f-4395-a58a-78fa749a6acc",
   "metadata": {},
   "outputs": [],
   "source": [
    "fa= ['lion', 'tiger', 'elephant']"
   ]
  },
  {
   "cell_type": "code",
   "execution_count": 26,
   "id": "b55ab7ba-9112-4041-a1b6-82292c5b49e0",
   "metadata": {},
   "outputs": [],
   "source": [
    "fa.append('rabbit')"
   ]
  },
  {
   "cell_type": "code",
   "execution_count": 27,
   "id": "02019c47-2d24-4387-a40a-f9a29fcb63fc",
   "metadata": {},
   "outputs": [
    {
     "name": "stdout",
     "output_type": "stream",
     "text": [
      "['lion', 'tiger', 'elephant', 'rabbit']\n"
     ]
    }
   ],
   "source": [
    "print(fa)"
   ]
  },
  {
   "cell_type": "markdown",
   "id": "c86fb018-b361-4743-80d3-7f1c04d83f96",
   "metadata": {},
   "source": [
    "Question 8- Create a list of your favorite then use the index() method to find position of a specific city on the list and print it"
   ]
  },
  {
   "cell_type": "markdown",
   "id": "a8c08e54-a691-4a05-bd75-466a870f51f0",
   "metadata": {},
   "source": [
    "Answer 8-  We create alist of our favorite citys using square brackets'[]' and we using the index method() to find the position of the city"
   ]
  },
  {
   "cell_type": "code",
   "execution_count": 28,
   "id": "21919705-b09b-4645-b936-52d04e850289",
   "metadata": {},
   "outputs": [],
   "source": [
    "fc= ['london' , 'delhi', 'paris', 'lucknow', 'bareilly']"
   ]
  },
  {
   "cell_type": "code",
   "execution_count": 29,
   "id": "cc943dea-521f-40e7-baf4-801e866c5e94",
   "metadata": {},
   "outputs": [],
   "source": [
    "position= fc.index('paris')"
   ]
  },
  {
   "cell_type": "code",
   "execution_count": 30,
   "id": "9ac59a25-7308-4dd9-89ca-e89fb97b1f6d",
   "metadata": {},
   "outputs": [
    {
     "name": "stdout",
     "output_type": "stream",
     "text": [
      "index: 2\n"
     ]
    }
   ],
   "source": [
    "print('index:',position)"
   ]
  },
  {
   "cell_type": "markdown",
   "id": "30aaf88f-2cfc-4aad-8159-255143d61738",
   "metadata": {},
   "source": [
    "Assignment completed"
   ]
  },
  {
   "cell_type": "code",
   "execution_count": null,
   "id": "b4ec3f6a-9189-4a20-b7dc-a47a4d0796c2",
   "metadata": {},
   "outputs": [],
   "source": []
  }
 ],
 "metadata": {
  "kernelspec": {
   "display_name": "Python 3 (ipykernel)",
   "language": "python",
   "name": "python3"
  },
  "language_info": {
   "codemirror_mode": {
    "name": "ipython",
    "version": 3
   },
   "file_extension": ".py",
   "mimetype": "text/x-python",
   "name": "python",
   "nbconvert_exporter": "python",
   "pygments_lexer": "ipython3",
   "version": "3.10.8"
  }
 },
 "nbformat": 4,
 "nbformat_minor": 5
}
